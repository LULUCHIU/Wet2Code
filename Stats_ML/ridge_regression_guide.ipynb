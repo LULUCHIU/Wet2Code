{
 "cells": [
  {
   "cell_type": "markdown",
   "id": "023800ba",
   "metadata": {},
   "source": [
    "# The *Complete* Guide to Ridge Regression\n",
    "### Why We Penalize, Why We Scale, and How to Make It Work in Code\n",
    "\n",
    "*“Regularization is like adding a shock‑absorber to your model; you still hit the bumps, but you don’t go flying off the track.”*"
   ]
  },
  {
   "cell_type": "markdown",
   "id": "91938bfa",
   "metadata": {},
   "source": [
    " > Ridge Regression (a.k.a. L2‑regularized linear regression) cures over‑fitting and multicollinearity by shrinking coefficients toward zero. But it only works its magic **after every feature is on the same numerical scale**. Below you’ll find the theory, intuition, pitfalls, and runnable Python demos."
   ]
  },
  {
   "cell_type": "markdown",
   "id": "ae5e4d45",
   "metadata": {},
   "source": [
    "## 1  Why Ordinary Least Squares Falls Apart\n",
    "\n",
    "1. **Too many features, too little data** → the model memorises noise (high variance).\n",
    "2. **Highly correlated predictors** → coefficients explode in opposite directions to compensate (unstable estimates).\n",
    "3. **Heterogeneous feature ranges** (e.g. *age* 1‑100 vs. *income* 1‑1 000 000) → the optimisation landscape is stretched like ravioli, slowing or breaking convergence."
   ]
  },
  {
   "attachments": {
    "image.png": {
     "image/png": "[encoded data removed]"
    }
   },
   "cell_type": "markdown",
   "id": "0a915d78",
   "metadata": {},
   "source": [
    "## 2  Ridge Regression in One Equation\n",
    "\n",
    "![image.png](attachment:image.png)\n",
    "\n",
    "* **λ (lambda)** controls the trade‑off.  \n",
    "  * λ = 0 → ordinary least squares.  \n",
    "  * λ → ∞ → coefficients collapse toward zero (risk of under‑fitting).  \n",
    "* The intercept is *not* penalised by default in `sklearn.linear_model.Ridge`."
   ]
  },
  {
   "cell_type": "markdown",
   "id": "7adeb734",
   "metadata": {},
   "source": [
    "## 3  Why Scaling Comes *Before* Ridge\n",
    "\n",
    "| Reason | Without Scaling | Benefit of Scaling |\n",
    "|---|---|---|\n",
    "| **Fair λ** | Big‑range features get weak penalty; tiny‑range get huge penalty. | Equal regularisation pressure across dimensions. |\n",
    "| **Numerical stability** | $X^{\\top}X$ ill‑conditioned; small errors → huge coefficient swings. | Lower condition number ⇒ safer inversion & crisper gradients. |\n",
    "| **Optimiser speed** | Gradients zig‑zag along skinny valleys. | Circular contours ⇒ faster, smoother convergence. |\n",
    "| **Interpretability** | Weights incomparable. | Weight ≈ effect of **1 std‑dev** increase in that feature. |\n",
    "\n",
    "> **Rule of thumb:** Always standardise (mean 0, std 1) before any model that penalises coefficient size (Ridge, Lasso, Elastic Net, etc.)."
   ]
  },
  {
   "cell_type": "markdown",
   "id": "f6e0d00e",
   "metadata": {},
   "source": [
    "## 4  Ridge vs. Lasso\n",
    "\n",
    "|          | **Ridge (L2)** | **Lasso (L1)** |\n",
    "|---|---|---|\n",
    "| Penalty | $\\lambda\\sum w_j^2$ | $\\lambda\\sum |w_j|$ |\n",
    "| Effect | Shrinks, **keeps all features** | Shrinks and can **zero‑out** features |\n",
    "| Best when | Many correlated predictors | True signal is sparse |\n",
    "| Solver | Closed‑form / fast | Iterative optimisation |\n",
    "| Coefficient path | Smooth | Piece‑wise linear & sparse |"
   ]
  },
  {
   "cell_type": "markdown",
   "id": "cc34144c",
   "metadata": {},
   "source": [
    "## 5  Hands‑On #1 — Scaling vs. No Scaling\n",
    "Run the next cell to see how coefficient magnitudes change when we scale the predictors before Ridge."
   ]
  },
  {
   "cell_type": "code",
   "execution_count": 1,
   "id": "dd1e7373",
   "metadata": {},
   "outputs": [],
   "source": [
    "import numpy as np, pandas as pd, matplotlib.pyplot as plt\n",
    "from sklearn.linear_model import Ridge\n",
    "from sklearn.preprocessing import StandardScaler\n",
    "from sklearn.pipeline import Pipeline"
   ]
  },
  {
   "cell_type": "code",
   "execution_count": 2,
   "id": "c7794f01",
   "metadata": {},
   "outputs": [],
   "source": [
    "np.random.seed(0)\n",
    "\n",
    "# Synthetic data\n",
    "n = 400\n",
    "X_big   = np.random.uniform(500, 5000, size=(n, 1))      # large scale\n",
    "X_small = np.random.uniform(1, 5, size=(n, 1))           # small scale\n",
    "noise   = np.random.randn(n, 1) * 30\n",
    "y = 0.05 * X_big + 10.0 * X_small + noise\n",
    "X = np.hstack([X_big, X_small])"
   ]
  },
  {
   "cell_type": "code",
   "execution_count": 9,
   "id": "4e72727c",
   "metadata": {},
   "outputs": [
    {
     "name": "stdout",
     "output_type": "stream",
     "text": [
      "[ 0.05062667 10.61346771]\n"
     ]
    }
   ],
   "source": [
    "# Ridge without scaling\n",
    "ridge_raw = Ridge(alpha=1.0).fit(X, y)\n",
    "coefs_raw = ridge_raw.coef_.ravel()\n",
    "print(coefs_raw)"
   ]
  },
  {
   "cell_type": "code",
   "execution_count": 10,
   "id": "52e8783d",
   "metadata": {},
   "outputs": [
    {
     "data": {
      "text/html": [
       "<style type=\"text/css\">\n",
       "</style>\n",
       "<table id=\"T_664ed\">\n",
       "  <thead>\n",
       "    <tr>\n",
       "      <th class=\"blank level0\" >&nbsp;</th>\n",
       "      <th id=\"T_664ed_level0_col0\" class=\"col_heading level0 col0\" >feature</th>\n",
       "      <th id=\"T_664ed_level0_col1\" class=\"col_heading level0 col1\" >no_scaling</th>\n",
       "      <th id=\"T_664ed_level0_col2\" class=\"col_heading level0 col2\" >with_scaling</th>\n",
       "    </tr>\n",
       "  </thead>\n",
       "  <tbody>\n",
       "    <tr>\n",
       "      <th id=\"T_664ed_level0_row0\" class=\"row_heading level0 row0\" >0</th>\n",
       "      <td id=\"T_664ed_row0_col0\" class=\"data row0 col0\" >big‑scale</td>\n",
       "      <td id=\"T_664ed_row0_col1\" class=\"data row0 col1\" >0.051</td>\n",
       "      <td id=\"T_664ed_row0_col2\" class=\"data row0 col2\" >65.669</td>\n",
       "    </tr>\n",
       "    <tr>\n",
       "      <th id=\"T_664ed_level0_row1\" class=\"row_heading level0 row1\" >1</th>\n",
       "      <td id=\"T_664ed_row1_col0\" class=\"data row1 col0\" >small‑scale</td>\n",
       "      <td id=\"T_664ed_row1_col1\" class=\"data row1 col1\" >10.613</td>\n",
       "      <td id=\"T_664ed_row1_col2\" class=\"data row1 col2\" >12.545</td>\n",
       "    </tr>\n",
       "  </tbody>\n",
       "</table>\n"
      ],
      "text/plain": [
       "<pandas.io.formats.style.Styler at 0x16bfc50c0>"
      ]
     },
     "execution_count": 10,
     "metadata": {},
     "output_type": "execute_result"
    }
   ],
   "source": [
    "# Ridge with scaling\n",
    "pipe = Pipeline([('scale', StandardScaler()),\n",
    "                 ('ridge', Ridge(alpha=1.0))])\n",
    "pipe.fit(X, y)\n",
    "coefs_scaled = pipe.named_steps['ridge'].coef_.ravel()\n",
    "\n",
    "pd.DataFrame({'feature': ['big‑scale','small‑scale'],\n",
    "              'no_scaling': coefs_raw,\n",
    "              'with_scaling': coefs_scaled}).style.format(precision=3)"
   ]
  },
  {
   "cell_type": "markdown",
   "id": "b6507359",
   "metadata": {},
   "source": [
    "### Observation\n",
    "Without scaling, the small‑range feature receives an **enormous** weight (and thus suffers a huge penalty). After scaling, both weights live on the same order of magnitude — Ridge works fairly."
   ]
  },
  {
   "cell_type": "markdown",
   "id": "c7aebaa6",
   "metadata": {},
   "source": [
    "## 6  Hands‑On #2 — Cross‑Validating λ the *Right* Way\n",
    "We’ll tune λ on a log‑scale grid **inside** the scaling pipeline so the scaler never peeks at the validation folds."
   ]
  },
  {
   "cell_type": "code",
   "execution_count": 11,
   "id": "2696a625",
   "metadata": {},
   "outputs": [
    {
     "data": {
      "text/plain": [
       "array([1.00000000e-03, 1.77827941e-03, 3.16227766e-03, 5.62341325e-03,\n",
       "       1.00000000e-02, 1.77827941e-02, 3.16227766e-02, 5.62341325e-02,\n",
       "       1.00000000e-01, 1.77827941e-01, 3.16227766e-01, 5.62341325e-01,\n",
       "       1.00000000e+00, 1.77827941e+00, 3.16227766e+00, 5.62341325e+00,\n",
       "       1.00000000e+01, 1.77827941e+01, 3.16227766e+01, 5.62341325e+01,\n",
       "       1.00000000e+02, 1.77827941e+02, 3.16227766e+02, 5.62341325e+02,\n",
       "       1.00000000e+03])"
      ]
     },
     "execution_count": 11,
     "metadata": {},
     "output_type": "execute_result"
    }
   ],
   "source": [
    "from sklearn.model_selection import GridSearchCV, KFold\n",
    "\n",
    "alphas = np.logspace(-3, 3, 25)  # 10^-3 ... 10^3\n",
    "alphas"
   ]
  },
  {
   "cell_type": "code",
   "execution_count": 12,
   "id": "b9b9ab82",
   "metadata": {},
   "outputs": [
    {
     "name": "stdout",
     "output_type": "stream",
     "text": [
      "Best λ : 1.778\n",
      "CV RMSE : 29.096\n"
     ]
    }
   ],
   "source": [
    "pipeline = Pipeline([('scale', StandardScaler()),\n",
    "                     ('ridge', Ridge())])\n",
    "param_grid = {'ridge__alpha': alphas}\n",
    "\n",
    "cv = KFold(n_splits=5, shuffle=True, random_state=42)\n",
    "grid = GridSearchCV(pipeline, param_grid, cv=cv,\n",
    "                    scoring='neg_root_mean_squared_error')\n",
    "grid.fit(X, y.ravel())\n",
    "\n",
    "best_alpha = grid.best_params_['ridge__alpha']\n",
    "best_rmse  = -grid.best_score_\n",
    "\n",
    "print(f\"Best λ : {best_alpha:.4g}\")\n",
    "print(f\"CV RMSE : {best_rmse:.3f}\")\n"
   ]
  },
  {
   "cell_type": "markdown",
   "id": "0e9d9b63",
   "metadata": {},
   "source": [
    "## 7  Summary Checklist\n",
    "\n",
    "- [x] **Scale** every predictor before Ridge/Lasso/Elastic Net.  \n",
    "- [x] Use a `Pipeline` so scaling occurs inside each CV fold.  \n",
    "- [x] Tune λ with grid search or `RidgeCV`.  \n",
    "- [x] Interpret coefficients only after scaling.  \n",
    "- [x] Prefer Ridge when *all* features matter and multicollinearity is high."
   ]
  }
 ],
 "metadata": {
  "kernelspec": {
   "display_name": "base",
   "language": "python",
   "name": "python3"
  },
  "language_info": {
   "codemirror_mode": {
    "name": "ipython",
    "version": 3
   },
   "file_extension": ".py",
   "mimetype": "text/x-python",
   "name": "python",
   "nbconvert_exporter": "python",
   "pygments_lexer": "ipython3",
   "version": "3.10.10"
  }
 },
 "nbformat": 4,
 "nbformat_minor": 5
}
